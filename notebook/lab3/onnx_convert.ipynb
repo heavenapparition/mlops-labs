{
 "cells": [
  {
   "cell_type": "code",
   "execution_count": 34,
   "metadata": {},
   "outputs": [],
   "source": [
    "import mlflow\n",
    "import onnx\n",
    "import numpy as np\n",
    "import time\n",
    "from sklearn.metrics import accuracy_score, roc_curve, auc, roc_auc_score\n",
    "from sklearn.preprocessing import StandardScaler, LabelEncoder\n",
    "from sklearn.model_selection import train_test_split\n",
    "import pandas as pd\n",
    "import os\n",
    "import xgboost as xgb\n",
    "from onnxmltools.convert.common.data_types import FloatTensorType\n",
    "import onnxruntime as rt"
   ]
  },
  {
   "cell_type": "code",
   "execution_count": 16,
   "metadata": {},
   "outputs": [],
   "source": [
    "os.environ[\"AWS_ACCESS_KEY_ID\"] = \"mlflow\"\n",
    "os.environ[\"AWS_SECRET_ACCESS_KEY\"] = \"password\"\n",
    "os.environ[\"MLFLOW_S3_ENDPOINT_URL\"] = f\"http://localhost:9000\""
   ]
  },
  {
   "cell_type": "code",
   "execution_count": 17,
   "metadata": {},
   "outputs": [
    {
     "name": "stderr",
     "output_type": "stream",
     "text": [
      "2024/12/03 15:50:52 INFO mlflow.tracking.fluent: Autologging successfully enabled for sklearn.\n",
      "2024/12/03 15:50:52 WARNING mlflow.utils.autologging_utils: MLflow xgboost autologging is known to be compatible with 1.4.2 <= xgboost <= 2.1.2, but the installed version is 2.1.3. If you encounter errors during autologging, try upgrading / downgrading xgboost to a compatible version, or try upgrading MLflow.\n",
      "2024/12/03 15:50:52 INFO mlflow.tracking.fluent: Autologging successfully enabled for xgboost.\n"
     ]
    }
   ],
   "source": [
    "mlflow.set_tracking_uri('http://localhost:9909')\n",
    "experiment_name = \"credit_scoring\"\n",
    "mlflow.set_experiment(experiment_name)\n",
    "mlflow.autolog()"
   ]
  },
  {
   "cell_type": "code",
   "execution_count": 36,
   "metadata": {},
   "outputs": [],
   "source": [
    "from copy import deepcopy\n",
    "train_data = pd.read_csv('/Users/mark/Documents/work/mlflow-tutorial/data/train.csv')\n",
    "test_data = pd.read_csv('/Users/mark/Documents/work/mlflow-tutorial/data/test.csv')\n",
    "\n",
    "X = train_data.drop('loan_status', axis=1)\n",
    "y = train_data['loan_status']\n",
    "def preprocess_data(df):\n",
    "    data = deepcopy(df)\n",
    "    categorical_features = data.select_dtypes(include=['object']).columns\n",
    "    for feature in categorical_features:\n",
    "        le = LabelEncoder()\n",
    "        data[feature] = le.fit_transform(data[feature].astype(str))\n",
    "\n",
    "    scaler = StandardScaler()\n",
    "    data = pd.DataFrame(scaler.fit_transform(data), columns=data.columns)\n",
    "    return data\n",
    "\n",
    "X = preprocess_data(X)\n",
    "\n",
    "X_test = preprocess_data(test_data)\n",
    "\n",
    "X_train, X_val, y_train, y_val = train_test_split(X, y, test_size=0.2, random_state=42)"
   ]
  },
  {
   "cell_type": "code",
   "execution_count": 46,
   "metadata": {},
   "outputs": [
    {
     "name": "stderr",
     "output_type": "stream",
     "text": [
      "Downloading artifacts: 100%|██████████| 5/5 [00:00<00:00, 823.35it/s]"
     ]
    },
    {
     "name": "stdout",
     "output_type": "stream",
     "text": [
      "Current provider: CPU\n",
      "Predictions are equal: True\n",
      "ONNX prediction time: 0.0218 seconds\n",
      "XGBoost prediction time: 0.0114 seconds\n",
      "ONNX is 0.52x faster than XGBoost\n"
     ]
    },
    {
     "name": "stderr",
     "output_type": "stream",
     "text": [
      "\n"
     ]
    }
   ],
   "source": [
    "model_name = \"raw_xgb\"  \n",
    "model_version = 1  \n",
    "\n",
    "model = mlflow.xgboost.load_model(\n",
    "    model_uri=f\"models:/{model_name}/{model_version}\"\n",
    ")\n",
    "\n",
    "n_features = len(model.feature_names_in_)\n",
    "old_feature_names = model.feature_names_in_\n",
    "feature_names = [f'f{i}' for i in range(n_features)]\n",
    "model._Booster.feature_names = feature_names\n",
    "\n",
    "initial_type = [('float_input', FloatTensorType([None, n_features]))]\n",
    "\n",
    "onx = onnxmltools.convert_xgboost(model, initial_types=initial_type)\n",
    "\n",
    "with open(\"raw_xgb.onnx\", \"wb\") as f:\n",
    "    f.write(onx.SerializeToString())\n",
    "\n",
    "X_test.columns = feature_names\n",
    "\n",
    "\n",
    "sess_options = rt.SessionOptions()\n",
    "sess_options.graph_optimization_level = rt.GraphOptimizationLevel.ORT_ENABLE_ALL\n",
    "sess_options.intra_op_num_threads = -1\n",
    "\n",
    "\n",
    "sess = rt.InferenceSession(\n",
    "    \"raw_xgb.onnx\",\n",
    "    sess_options=sess_options,\n",
    "    providers=[\"CPUExecutionProvider\"]\n",
    ")\n",
    "input_name = sess.get_inputs()[0].name\n",
    "label_name = sess.get_outputs()[0].name\n",
    "X_val_array = X_test.values\n",
    "X_val_dict = {input_name: X_val_array.astype(np.float32)}\n",
    "\n",
    "start_time_onnx = time.time()\n",
    "pred_onnx = sess.run([label_name], X_val_dict)[0]\n",
    "onnx_time = time.time() - start_time_onnx\n",
    "\n",
    "start_time_xgb = time.time()\n",
    "pred_xgb = model.predict(X_test)\n",
    "xgb_time = time.time() - start_time_xgb\n",
    "\n",
    "print(\"Current provider:\", rt.get_device())\n",
    "print(\"Predictions are equal:\", np.allclose(pred_xgb, pred_onnx))\n",
    "print(f\"ONNX prediction time: {onnx_time:.4f} seconds\")\n",
    "print(f\"XGBoost prediction time: {xgb_time:.4f} seconds\")\n",
    "print(f\"ONNX is {xgb_time/onnx_time:.2f}x faster than XGBoost\")"
   ]
  }
 ],
 "metadata": {
  "kernelspec": {
   "display_name": "venv",
   "language": "python",
   "name": "python3"
  },
  "language_info": {
   "codemirror_mode": {
    "name": "ipython",
    "version": 3
   },
   "file_extension": ".py",
   "mimetype": "text/x-python",
   "name": "python",
   "nbconvert_exporter": "python",
   "pygments_lexer": "ipython3",
   "version": "3.12.4"
  }
 },
 "nbformat": 4,
 "nbformat_minor": 2
}
